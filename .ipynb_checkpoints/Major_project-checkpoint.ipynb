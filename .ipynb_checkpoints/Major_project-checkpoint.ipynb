{
 "cells": [
  {
   "cell_type": "markdown",
   "id": "d26be96b-7e92-45e9-99e9-46efba123f10",
   "metadata": {},
   "source": [
    "# Importing all the libraries"
   ]
  },
  {
   "cell_type": "code",
   "execution_count": 1,
   "id": "e9327932-4989-4091-b713-18b5c4504798",
   "metadata": {},
   "outputs": [
    {
     "name": "stderr",
     "output_type": "stream",
     "text": [
      "2024-12-18 22:11:35.788859: I external/local_xla/xla/tsl/cuda/cudart_stub.cc:32] Could not find cuda drivers on your machine, GPU will not be used.\n",
      "2024-12-18 22:11:35.794325: I external/local_xla/xla/tsl/cuda/cudart_stub.cc:32] Could not find cuda drivers on your machine, GPU will not be used.\n",
      "2024-12-18 22:11:35.810932: E external/local_xla/xla/stream_executor/cuda/cuda_fft.cc:477] Unable to register cuFFT factory: Attempting to register factory for plugin cuFFT when one has already been registered\n",
      "WARNING: All log messages before absl::InitializeLog() is called are written to STDERR\n",
      "E0000 00:00:1734540095.837820   13897 cuda_dnn.cc:8310] Unable to register cuDNN factory: Attempting to register factory for plugin cuDNN when one has already been registered\n",
      "E0000 00:00:1734540095.845343   13897 cuda_blas.cc:1418] Unable to register cuBLAS factory: Attempting to register factory for plugin cuBLAS when one has already been registered\n",
      "2024-12-18 22:11:35.873077: I tensorflow/core/platform/cpu_feature_guard.cc:210] This TensorFlow binary is optimized to use available CPU instructions in performance-critical operations.\n",
      "To enable the following instructions: AVX2 FMA, in other operations, rebuild TensorFlow with the appropriate compiler flags.\n"
     ]
    }
   ],
   "source": [
    "import pandas as pd\n",
    "import numpy as np\n",
    "from tensorflow.keras.models import Sequential\n",
    "from tensorflow.keras.layers import Dense, Convolution2D, MaxPooling2D, Flatten, Dropout\n",
    "from tensorflow.keras.preprocessing .image import ImageDataGenerator"
   ]
  },
  {
   "cell_type": "markdown",
   "id": "461eb4c2-d490-4d43-b80b-0257d69c699a",
   "metadata": {},
   "source": [
    "# Image Data Augumentation"
   ]
  },
  {
   "cell_type": "code",
   "execution_count": 2,
   "id": "7653c399-d22d-4493-9b70-5d113e56aadd",
   "metadata": {},
   "outputs": [],
   "source": [
    "train_datagen = ImageDataGenerator(rescale = 1./255, shear_range = 0.2, zoom_range = 0.2, horizontal_flip = True)\n",
    "test_datagen = ImageDataGenerator(rescale = 1./255)"
   ]
  },
  {
   "cell_type": "code",
   "execution_count": 4,
   "id": "dba8068a-e12e-412f-a6a9-16b7966509d8",
   "metadata": {},
   "outputs": [
    {
     "name": "stdout",
     "output_type": "stream",
     "text": [
      "Dataset extracted successfully!\n"
     ]
    }
   ],
   "source": [
    "#Loading the data and performing data augumentation\n",
    "import zipfile\n",
    "import os\n",
    "\n",
    "# Path to your zip file and extraction folder\n",
    "zip_path = 'Dataset.zip'\n",
    "extract_path = '/home/manishji/Smart_Mathematics_Tutor/Dataset'\n",
    "\n",
    "# Extract the dataset\n",
    "with zipfile.ZipFile(zip_path, 'r') as zip_ref:\n",
    "    zip_ref.extractall(extract_path)\n",
    "\n",
    "print(\"Dataset extracted successfully!\")\n"
   ]
  },
  {
   "cell_type": "code",
   "execution_count": 7,
   "id": "c6a14d6d-4eda-4e83-b17c-5adfa0a96171",
   "metadata": {},
   "outputs": [
    {
     "name": "stdout",
     "output_type": "stream",
     "text": [
      "Found 10941 images belonging to 3 classes.\n",
      "Found 300 images belonging to 3 classes.\n"
     ]
    }
   ],
   "source": [
    "# Training data generator\n",
    "train_datagen = ImageDataGenerator(rescale=1./255)\n",
    "test_datagen = ImageDataGenerator(rescale=1./255)\n",
    "\n",
    "# Training dataset\n",
    "x_train = train_datagen.flow_from_directory(\n",
    "    \"/home/manishji/Smart_Mathematics_Tutor/Dataset/Dataset/train\",\n",
    "    target_size=(64, 64),\n",
    "    batch_size=32,\n",
    "    class_mode=\"categorical\"\n",
    ")\n",
    "\n",
    "# Testing dataset\n",
    "x_test = test_datagen.flow_from_directory(\n",
    "    \"/home/manishji/Smart_Mathematics_Tutor/Dataset/Dataset/test\",\n",
    "    target_size=(64, 64),\n",
    "    batch_size=32,\n",
    "    class_mode=\"categorical\"\n",
    ")\n"
   ]
  },
  {
   "cell_type": "code",
   "execution_count": 8,
   "id": "0dd725f9-5121-43af-b0c2-2f9a2d0d4ad0",
   "metadata": {},
   "outputs": [
    {
     "data": {
      "text/plain": [
       "{'circle': 0, 'square': 1, 'triangle': 2}"
      ]
     },
     "execution_count": 8,
     "metadata": {},
     "output_type": "execute_result"
    }
   ],
   "source": [
    "x_train.class_indices"
   ]
  },
  {
   "cell_type": "markdown",
   "id": "34fddc59-fb78-49d1-be2d-f07dede667b0",
   "metadata": {},
   "source": [
    "# Building the model"
   ]
  },
  {
   "cell_type": "code",
   "execution_count": 10,
   "id": "94e646ec-3d7c-4ce0-b176-7d1fd826041f",
   "metadata": {},
   "outputs": [],
   "source": [
    "model = Sequential()"
   ]
  },
  {
   "cell_type": "code",
   "execution_count": 11,
   "id": "0f526d5c-dfdf-4277-907b-01f213bcf73d",
   "metadata": {},
   "outputs": [],
   "source": [
    "model.add(Convolution2D(32,(3,3),input_shape = (64,64,3)))"
   ]
  },
  {
   "cell_type": "code",
   "execution_count": 12,
   "id": "de2a2651-338b-4253-bbc7-5eb3703e1d6d",
   "metadata": {},
   "outputs": [],
   "source": [
    "model.add(MaxPooling2D((2,2)))"
   ]
  },
  {
   "cell_type": "code",
   "execution_count": 13,
   "id": "0f07a1a5-8187-4b77-ad56-281daec3887e",
   "metadata": {},
   "outputs": [],
   "source": [
    "model.add(Flatten())"
   ]
  },
  {
   "cell_type": "code",
   "execution_count": 14,
   "id": "6f271ad2-f30f-432a-a0c5-3f3b16a6720f",
   "metadata": {},
   "outputs": [],
   "source": [
    "model.add(Dense(units = 128, kernel_initializer= \"random_uniform\",activation = \"relu\"))"
   ]
  },
  {
   "cell_type": "code",
   "execution_count": 15,
   "id": "d62bf572-e716-47c2-b31e-8c394b8d395d",
   "metadata": {},
   "outputs": [],
   "source": [
    "model.add(Dense(units = 3 , kernel_initializer= \"random_uniform\",activation = \"softmax\"))"
   ]
  },
  {
   "cell_type": "markdown",
   "id": "356bc09b-6ad5-4944-9c06-18fd14332371",
   "metadata": {},
   "source": [
    "# Compiling the model"
   ]
  },
  {
   "cell_type": "code",
   "execution_count": 16,
   "id": "29ea90b5-1fa0-4a12-b941-6b46570e83a5",
   "metadata": {},
   "outputs": [],
   "source": [
    "model.compile(optimizer= \"adam\",loss = \"categorical_crossentropy\" , metrics =[\"accuracy\"])"
   ]
  },
  {
   "cell_type": "markdown",
   "id": "1863c1be-5115-45a7-b159-e6b832bab711",
   "metadata": {},
   "source": [
    "# Fitting the model"
   ]
  },
  {
   "cell_type": "code",
   "execution_count": 18,
   "id": "0f2f24aa-e34e-4c67-8b98-085382adaf20",
   "metadata": {
    "scrolled": true
   },
   "outputs": [
    {
     "name": "stdout",
     "output_type": "stream",
     "text": [
      "Epoch 1/100\n"
     ]
    },
    {
     "name": "stderr",
     "output_type": "stream",
     "text": [
      "/home/manishji/my_new/lib/python3.12/site-packages/keras/src/trainers/data_adapters/py_dataset_adapter.py:121: UserWarning: Your `PyDataset` class should call `super().__init__(**kwargs)` in its constructor. `**kwargs` can include `workers`, `use_multiprocessing`, `max_queue_size`. Do not pass these arguments to `fit()`, as they will be ignored.\n",
      "  self._warn_if_super_not_called()\n"
     ]
    },
    {
     "name": "stdout",
     "output_type": "stream",
     "text": [
      "\u001b[1m342/342\u001b[0m \u001b[32m━━━━━━━━━━━━━━━━━━━━\u001b[0m\u001b[37m\u001b[0m \u001b[1m20s\u001b[0m 54ms/step - accuracy: 0.8058 - loss: 0.5339 - val_accuracy: 0.9933 - val_loss: 0.0646\n",
      "Epoch 2/100\n",
      "\u001b[1m342/342\u001b[0m \u001b[32m━━━━━━━━━━━━━━━━━━━━\u001b[0m\u001b[37m\u001b[0m \u001b[1m18s\u001b[0m 53ms/step - accuracy: 0.9925 - loss: 0.0300 - val_accuracy: 1.0000 - val_loss: 0.0063\n",
      "Epoch 3/100\n",
      "\u001b[1m342/342\u001b[0m \u001b[32m━━━━━━━━━━━━━━━━━━━━\u001b[0m\u001b[37m\u001b[0m \u001b[1m18s\u001b[0m 54ms/step - accuracy: 0.9978 - loss: 0.0105 - val_accuracy: 1.0000 - val_loss: 0.0043\n",
      "Epoch 4/100\n",
      "\u001b[1m342/342\u001b[0m \u001b[32m━━━━━━━━━━━━━━━━━━━━\u001b[0m\u001b[37m\u001b[0m \u001b[1m18s\u001b[0m 53ms/step - accuracy: 0.9972 - loss: 0.0079 - val_accuracy: 1.0000 - val_loss: 9.8275e-04\n",
      "Epoch 5/100\n",
      "\u001b[1m342/342\u001b[0m \u001b[32m━━━━━━━━━━━━━━━━━━━━\u001b[0m\u001b[37m\u001b[0m \u001b[1m18s\u001b[0m 54ms/step - accuracy: 1.0000 - loss: 0.0013 - val_accuracy: 1.0000 - val_loss: 3.5335e-04\n",
      "Epoch 6/100\n",
      "\u001b[1m342/342\u001b[0m \u001b[32m━━━━━━━━━━━━━━━━━━━━\u001b[0m\u001b[37m\u001b[0m \u001b[1m18s\u001b[0m 54ms/step - accuracy: 0.9998 - loss: 0.0013 - val_accuracy: 1.0000 - val_loss: 1.3090e-04\n",
      "Epoch 7/100\n",
      "\u001b[1m342/342\u001b[0m \u001b[32m━━━━━━━━━━━━━━━━━━━━\u001b[0m\u001b[37m\u001b[0m \u001b[1m19s\u001b[0m 54ms/step - accuracy: 0.9997 - loss: 9.6685e-04 - val_accuracy: 1.0000 - val_loss: 3.4597e-04\n",
      "Epoch 8/100\n",
      "\u001b[1m342/342\u001b[0m \u001b[32m━━━━━━━━━━━━━━━━━━━━\u001b[0m\u001b[37m\u001b[0m \u001b[1m19s\u001b[0m 54ms/step - accuracy: 0.9976 - loss: 0.0075 - val_accuracy: 1.0000 - val_loss: 2.5766e-04\n",
      "Epoch 9/100\n",
      "\u001b[1m342/342\u001b[0m \u001b[32m━━━━━━━━━━━━━━━━━━━━\u001b[0m\u001b[37m\u001b[0m \u001b[1m19s\u001b[0m 55ms/step - accuracy: 1.0000 - loss: 3.4284e-04 - val_accuracy: 1.0000 - val_loss: 6.7311e-05\n",
      "Epoch 10/100\n",
      "\u001b[1m342/342\u001b[0m \u001b[32m━━━━━━━━━━━━━━━━━━━━\u001b[0m\u001b[37m\u001b[0m \u001b[1m19s\u001b[0m 54ms/step - accuracy: 1.0000 - loss: 1.7966e-04 - val_accuracy: 1.0000 - val_loss: 3.5899e-05\n",
      "Epoch 11/100\n",
      "\u001b[1m342/342\u001b[0m \u001b[32m━━━━━━━━━━━━━━━━━━━━\u001b[0m\u001b[37m\u001b[0m \u001b[1m19s\u001b[0m 54ms/step - accuracy: 1.0000 - loss: 1.0019e-04 - val_accuracy: 1.0000 - val_loss: 5.2662e-05\n",
      "Epoch 12/100\n",
      "\u001b[1m342/342\u001b[0m \u001b[32m━━━━━━━━━━━━━━━━━━━━\u001b[0m\u001b[37m\u001b[0m \u001b[1m19s\u001b[0m 55ms/step - accuracy: 1.0000 - loss: 9.0426e-05 - val_accuracy: 1.0000 - val_loss: 1.8350e-05\n",
      "Epoch 13/100\n",
      "\u001b[1m342/342\u001b[0m \u001b[32m━━━━━━━━━━━━━━━━━━━━\u001b[0m\u001b[37m\u001b[0m \u001b[1m19s\u001b[0m 55ms/step - accuracy: 1.0000 - loss: 4.9246e-05 - val_accuracy: 1.0000 - val_loss: 2.4703e-05\n",
      "Epoch 14/100\n",
      "\u001b[1m342/342\u001b[0m \u001b[32m━━━━━━━━━━━━━━━━━━━━\u001b[0m\u001b[37m\u001b[0m \u001b[1m19s\u001b[0m 54ms/step - accuracy: 1.0000 - loss: 4.8125e-05 - val_accuracy: 1.0000 - val_loss: 1.4644e-05\n",
      "Epoch 15/100\n",
      "\u001b[1m342/342\u001b[0m \u001b[32m━━━━━━━━━━━━━━━━━━━━\u001b[0m\u001b[37m\u001b[0m \u001b[1m19s\u001b[0m 54ms/step - accuracy: 1.0000 - loss: 3.3795e-05 - val_accuracy: 1.0000 - val_loss: 8.1900e-06\n",
      "Epoch 16/100\n",
      "\u001b[1m342/342\u001b[0m \u001b[32m━━━━━━━━━━━━━━━━━━━━\u001b[0m\u001b[37m\u001b[0m \u001b[1m19s\u001b[0m 55ms/step - accuracy: 1.0000 - loss: 2.4965e-05 - val_accuracy: 1.0000 - val_loss: 7.7870e-06\n",
      "Epoch 17/100\n",
      "\u001b[1m342/342\u001b[0m \u001b[32m━━━━━━━━━━━━━━━━━━━━\u001b[0m\u001b[37m\u001b[0m \u001b[1m19s\u001b[0m 54ms/step - accuracy: 1.0000 - loss: 1.9951e-05 - val_accuracy: 1.0000 - val_loss: 4.7571e-06\n",
      "Epoch 18/100\n",
      "\u001b[1m342/342\u001b[0m \u001b[32m━━━━━━━━━━━━━━━━━━━━\u001b[0m\u001b[37m\u001b[0m \u001b[1m19s\u001b[0m 55ms/step - accuracy: 1.0000 - loss: 2.2689e-05 - val_accuracy: 1.0000 - val_loss: 4.2449e-06\n",
      "Epoch 19/100\n",
      "\u001b[1m342/342\u001b[0m \u001b[32m━━━━━━━━━━━━━━━━━━━━\u001b[0m\u001b[37m\u001b[0m \u001b[1m19s\u001b[0m 56ms/step - accuracy: 1.0000 - loss: 1.4003e-05 - val_accuracy: 1.0000 - val_loss: 2.8109e-06\n",
      "Epoch 20/100\n",
      "\u001b[1m342/342\u001b[0m \u001b[32m━━━━━━━━━━━━━━━━━━━━\u001b[0m\u001b[37m\u001b[0m \u001b[1m19s\u001b[0m 55ms/step - accuracy: 1.0000 - loss: 1.1210e-05 - val_accuracy: 1.0000 - val_loss: 2.1541e-06\n",
      "Epoch 21/100\n",
      "\u001b[1m342/342\u001b[0m \u001b[32m━━━━━━━━━━━━━━━━━━━━\u001b[0m\u001b[37m\u001b[0m \u001b[1m19s\u001b[0m 55ms/step - accuracy: 1.0000 - loss: 8.7540e-06 - val_accuracy: 1.0000 - val_loss: 1.6359e-06\n",
      "Epoch 22/100\n",
      "\u001b[1m342/342\u001b[0m \u001b[32m━━━━━━━━━━━━━━━━━━━━\u001b[0m\u001b[37m\u001b[0m \u001b[1m19s\u001b[0m 55ms/step - accuracy: 1.0000 - loss: 1.1149e-05 - val_accuracy: 1.0000 - val_loss: 1.3685e-06\n",
      "Epoch 23/100\n",
      "\u001b[1m342/342\u001b[0m \u001b[32m━━━━━━━━━━━━━━━━━━━━\u001b[0m\u001b[37m\u001b[0m \u001b[1m19s\u001b[0m 55ms/step - accuracy: 1.0000 - loss: 5.5070e-06 - val_accuracy: 1.0000 - val_loss: 2.5426e-06\n",
      "Epoch 24/100\n",
      "\u001b[1m342/342\u001b[0m \u001b[32m━━━━━━━━━━━━━━━━━━━━\u001b[0m\u001b[37m\u001b[0m \u001b[1m19s\u001b[0m 55ms/step - accuracy: 1.0000 - loss: 5.3462e-06 - val_accuracy: 1.0000 - val_loss: 8.4876e-07\n",
      "Epoch 25/100\n",
      "\u001b[1m342/342\u001b[0m \u001b[32m━━━━━━━━━━━━━━━━━━━━\u001b[0m\u001b[37m\u001b[0m \u001b[1m19s\u001b[0m 55ms/step - accuracy: 1.0000 - loss: 4.8671e-06 - val_accuracy: 1.0000 - val_loss: 7.4108e-07\n",
      "Epoch 26/100\n",
      "\u001b[1m342/342\u001b[0m \u001b[32m━━━━━━━━━━━━━━━━━━━━\u001b[0m\u001b[37m\u001b[0m \u001b[1m19s\u001b[0m 55ms/step - accuracy: 1.0000 - loss: 3.7146e-06 - val_accuracy: 1.0000 - val_loss: 1.0069e-06\n",
      "Epoch 27/100\n",
      "\u001b[1m342/342\u001b[0m \u001b[32m━━━━━━━━━━━━━━━━━━━━\u001b[0m\u001b[37m\u001b[0m \u001b[1m19s\u001b[0m 55ms/step - accuracy: 1.0000 - loss: 6.5184e-06 - val_accuracy: 1.0000 - val_loss: 6.0836e-07\n",
      "Epoch 28/100\n",
      "\u001b[1m342/342\u001b[0m \u001b[32m━━━━━━━━━━━━━━━━━━━━\u001b[0m\u001b[37m\u001b[0m \u001b[1m19s\u001b[0m 55ms/step - accuracy: 1.0000 - loss: 2.3935e-06 - val_accuracy: 1.0000 - val_loss: 2.8094e-07\n",
      "Epoch 29/100\n",
      "\u001b[1m342/342\u001b[0m \u001b[32m━━━━━━━━━━━━━━━━━━━━\u001b[0m\u001b[37m\u001b[0m \u001b[1m19s\u001b[0m 55ms/step - accuracy: 1.0000 - loss: 1.6008e-06 - val_accuracy: 1.0000 - val_loss: 3.0160e-07\n",
      "Epoch 30/100\n",
      "\u001b[1m342/342\u001b[0m \u001b[32m━━━━━━━━━━━━━━━━━━━━\u001b[0m\u001b[37m\u001b[0m \u001b[1m19s\u001b[0m 55ms/step - accuracy: 1.0000 - loss: 1.6765e-06 - val_accuracy: 1.0000 - val_loss: 2.3842e-07\n",
      "Epoch 31/100\n",
      "\u001b[1m342/342\u001b[0m \u001b[32m━━━━━━━━━━━━━━━━━━━━\u001b[0m\u001b[37m\u001b[0m \u001b[1m19s\u001b[0m 55ms/step - accuracy: 1.0000 - loss: 1.9820e-06 - val_accuracy: 1.0000 - val_loss: 1.4345e-07\n",
      "Epoch 32/100\n",
      "\u001b[1m342/342\u001b[0m \u001b[32m━━━━━━━━━━━━━━━━━━━━\u001b[0m\u001b[37m\u001b[0m \u001b[1m19s\u001b[0m 55ms/step - accuracy: 1.0000 - loss: 1.0084e-06 - val_accuracy: 1.0000 - val_loss: 1.2000e-07\n",
      "Epoch 33/100\n",
      "\u001b[1m342/342\u001b[0m \u001b[32m━━━━━━━━━━━━━━━━━━━━\u001b[0m\u001b[37m\u001b[0m \u001b[1m19s\u001b[0m 55ms/step - accuracy: 1.0000 - loss: 7.6643e-07 - val_accuracy: 1.0000 - val_loss: 1.5457e-07\n",
      "Epoch 34/100\n",
      "\u001b[1m342/342\u001b[0m \u001b[32m━━━━━━━━━━━━━━━━━━━━\u001b[0m\u001b[37m\u001b[0m \u001b[1m19s\u001b[0m 55ms/step - accuracy: 1.0000 - loss: 6.4902e-07 - val_accuracy: 1.0000 - val_loss: 6.4373e-08\n",
      "Epoch 35/100\n",
      "\u001b[1m342/342\u001b[0m \u001b[32m━━━━━━━━━━━━━━━━━━━━\u001b[0m\u001b[37m\u001b[0m \u001b[1m19s\u001b[0m 55ms/step - accuracy: 1.0000 - loss: 7.3437e-07 - val_accuracy: 1.0000 - val_loss: 5.9207e-08\n",
      "Epoch 36/100\n",
      "\u001b[1m342/342\u001b[0m \u001b[32m━━━━━━━━━━━━━━━━━━━━\u001b[0m\u001b[37m\u001b[0m \u001b[1m19s\u001b[0m 55ms/step - accuracy: 1.0000 - loss: 5.1882e-07 - val_accuracy: 1.0000 - val_loss: 5.1260e-08\n",
      "Epoch 37/100\n",
      "\u001b[1m342/342\u001b[0m \u001b[32m━━━━━━━━━━━━━━━━━━━━\u001b[0m\u001b[37m\u001b[0m \u001b[1m19s\u001b[0m 55ms/step - accuracy: 1.0000 - loss: 3.8156e-07 - val_accuracy: 1.0000 - val_loss: 4.8876e-08\n",
      "Epoch 38/100\n",
      "\u001b[1m342/342\u001b[0m \u001b[32m━━━━━━━━━━━━━━━━━━━━\u001b[0m\u001b[37m\u001b[0m \u001b[1m19s\u001b[0m 56ms/step - accuracy: 1.0000 - loss: 3.5612e-07 - val_accuracy: 1.0000 - val_loss: 4.3313e-08\n",
      "Epoch 39/100\n",
      "\u001b[1m342/342\u001b[0m \u001b[32m━━━━━━━━━━━━━━━━━━━━\u001b[0m\u001b[37m\u001b[0m \u001b[1m19s\u001b[0m 55ms/step - accuracy: 1.0000 - loss: 3.1868e-07 - val_accuracy: 1.0000 - val_loss: 2.4637e-08\n",
      "Epoch 40/100\n",
      "\u001b[1m342/342\u001b[0m \u001b[32m━━━━━━━━━━━━━━━━━━━━\u001b[0m\u001b[37m\u001b[0m \u001b[1m19s\u001b[0m 56ms/step - accuracy: 1.0000 - loss: 1.9752e-07 - val_accuracy: 1.0000 - val_loss: 8.7420e-09\n",
      "Epoch 41/100\n",
      "\u001b[1m342/342\u001b[0m \u001b[32m━━━━━━━━━━━━━━━━━━━━\u001b[0m\u001b[37m\u001b[0m \u001b[1m19s\u001b[0m 55ms/step - accuracy: 1.0000 - loss: 2.0830e-07 - val_accuracy: 1.0000 - val_loss: 5.1657e-09\n",
      "Epoch 42/100\n",
      "\u001b[1m342/342\u001b[0m \u001b[32m━━━━━━━━━━━━━━━━━━━━\u001b[0m\u001b[37m\u001b[0m \u001b[1m19s\u001b[0m 56ms/step - accuracy: 1.0000 - loss: 1.4665e-07 - val_accuracy: 1.0000 - val_loss: 3.9736e-09\n",
      "Epoch 43/100\n",
      "\u001b[1m342/342\u001b[0m \u001b[32m━━━━━━━━━━━━━━━━━━━━\u001b[0m\u001b[37m\u001b[0m \u001b[1m19s\u001b[0m 56ms/step - accuracy: 1.0000 - loss: 1.2591e-07 - val_accuracy: 1.0000 - val_loss: 3.9736e-09\n",
      "Epoch 44/100\n",
      "\u001b[1m342/342\u001b[0m \u001b[32m━━━━━━━━━━━━━━━━━━━━\u001b[0m\u001b[37m\u001b[0m \u001b[1m19s\u001b[0m 55ms/step - accuracy: 1.0000 - loss: 9.1142e-08 - val_accuracy: 1.0000 - val_loss: 3.1789e-09\n",
      "Epoch 45/100\n",
      "\u001b[1m342/342\u001b[0m \u001b[32m━━━━━━━━━━━━━━━━━━━━\u001b[0m\u001b[37m\u001b[0m \u001b[1m19s\u001b[0m 56ms/step - accuracy: 1.0000 - loss: 8.7441e-08 - val_accuracy: 1.0000 - val_loss: 3.1789e-09\n",
      "Epoch 46/100\n",
      "\u001b[1m342/342\u001b[0m \u001b[32m━━━━━━━━━━━━━━━━━━━━\u001b[0m\u001b[37m\u001b[0m \u001b[1m19s\u001b[0m 56ms/step - accuracy: 1.0000 - loss: 9.7779e-08 - val_accuracy: 1.0000 - val_loss: 1.1921e-09\n",
      "Epoch 47/100\n",
      "\u001b[1m342/342\u001b[0m \u001b[32m━━━━━━━━━━━━━━━━━━━━\u001b[0m\u001b[37m\u001b[0m \u001b[1m19s\u001b[0m 56ms/step - accuracy: 1.0000 - loss: 6.1690e-08 - val_accuracy: 1.0000 - val_loss: 1.1921e-09\n",
      "Epoch 48/100\n",
      "\u001b[1m342/342\u001b[0m \u001b[32m━━━━━━━━━━━━━━━━━━━━\u001b[0m\u001b[37m\u001b[0m \u001b[1m19s\u001b[0m 56ms/step - accuracy: 1.0000 - loss: 5.0603e-08 - val_accuracy: 1.0000 - val_loss: 1.5895e-09\n",
      "Epoch 49/100\n",
      "\u001b[1m342/342\u001b[0m \u001b[32m━━━━━━━━━━━━━━━━━━━━\u001b[0m\u001b[37m\u001b[0m \u001b[1m19s\u001b[0m 56ms/step - accuracy: 1.0000 - loss: 3.9643e-08 - val_accuracy: 1.0000 - val_loss: 1.1921e-09\n",
      "Epoch 50/100\n",
      "\u001b[1m342/342\u001b[0m \u001b[32m━━━━━━━━━━━━━━━━━━━━\u001b[0m\u001b[37m\u001b[0m \u001b[1m19s\u001b[0m 56ms/step - accuracy: 1.0000 - loss: 3.8220e-08 - val_accuracy: 1.0000 - val_loss: 1.1921e-09\n",
      "Epoch 51/100\n",
      "\u001b[1m342/342\u001b[0m \u001b[32m━━━━━━━━━━━━━━━━━━━━\u001b[0m\u001b[37m\u001b[0m \u001b[1m19s\u001b[0m 56ms/step - accuracy: 1.0000 - loss: 3.0864e-08 - val_accuracy: 1.0000 - val_loss: 7.9473e-10\n",
      "Epoch 52/100\n",
      "\u001b[1m342/342\u001b[0m \u001b[32m━━━━━━━━━━━━━━━━━━━━\u001b[0m\u001b[37m\u001b[0m \u001b[1m19s\u001b[0m 56ms/step - accuracy: 1.0000 - loss: 2.2778e-08 - val_accuracy: 1.0000 - val_loss: 1.1921e-09\n",
      "Epoch 53/100\n",
      "\u001b[1m342/342\u001b[0m \u001b[32m━━━━━━━━━━━━━━━━━━━━\u001b[0m\u001b[37m\u001b[0m \u001b[1m19s\u001b[0m 56ms/step - accuracy: 1.0000 - loss: 1.6554e-08 - val_accuracy: 1.0000 - val_loss: 7.9473e-10\n",
      "Epoch 54/100\n",
      "\u001b[1m342/342\u001b[0m \u001b[32m━━━━━━━━━━━━━━━━━━━━\u001b[0m\u001b[37m\u001b[0m \u001b[1m19s\u001b[0m 56ms/step - accuracy: 1.0000 - loss: 1.4123e-08 - val_accuracy: 1.0000 - val_loss: 1.1921e-09\n",
      "Epoch 55/100\n",
      "\u001b[1m342/342\u001b[0m \u001b[32m━━━━━━━━━━━━━━━━━━━━\u001b[0m\u001b[37m\u001b[0m \u001b[1m19s\u001b[0m 56ms/step - accuracy: 1.0000 - loss: 1.3228e-08 - val_accuracy: 1.0000 - val_loss: 0.0000e+00\n",
      "Epoch 56/100\n",
      "\u001b[1m342/342\u001b[0m \u001b[32m━━━━━━━━━━━━━━━━━━━━\u001b[0m\u001b[37m\u001b[0m \u001b[1m19s\u001b[0m 56ms/step - accuracy: 1.0000 - loss: 1.1663e-08 - val_accuracy: 1.0000 - val_loss: 0.0000e+00\n",
      "Epoch 57/100\n",
      "\u001b[1m342/342\u001b[0m \u001b[32m━━━━━━━━━━━━━━━━━━━━\u001b[0m\u001b[37m\u001b[0m \u001b[1m19s\u001b[0m 56ms/step - accuracy: 1.0000 - loss: 9.8619e-09 - val_accuracy: 1.0000 - val_loss: 0.0000e+00\n",
      "Epoch 58/100\n",
      "\u001b[1m342/342\u001b[0m \u001b[32m━━━━━━━━━━━━━━━━━━━━\u001b[0m\u001b[37m\u001b[0m \u001b[1m19s\u001b[0m 56ms/step - accuracy: 1.0000 - loss: 7.8664e-09 - val_accuracy: 1.0000 - val_loss: 0.0000e+00\n",
      "Epoch 59/100\n",
      "\u001b[1m342/342\u001b[0m \u001b[32m━━━━━━━━━━━━━━━━━━━━\u001b[0m\u001b[37m\u001b[0m \u001b[1m19s\u001b[0m 56ms/step - accuracy: 1.0000 - loss: 7.4472e-09 - val_accuracy: 1.0000 - val_loss: 0.0000e+00\n",
      "Epoch 60/100\n",
      "\u001b[1m342/342\u001b[0m \u001b[32m━━━━━━━━━━━━━━━━━━━━\u001b[0m\u001b[37m\u001b[0m \u001b[1m19s\u001b[0m 56ms/step - accuracy: 1.0000 - loss: 7.4775e-09 - val_accuracy: 1.0000 - val_loss: 0.0000e+00\n",
      "Epoch 61/100\n",
      "\u001b[1m342/342\u001b[0m \u001b[32m━━━━━━━━━━━━━━━━━━━━\u001b[0m\u001b[37m\u001b[0m \u001b[1m19s\u001b[0m 56ms/step - accuracy: 1.0000 - loss: 4.5780e-09 - val_accuracy: 1.0000 - val_loss: 0.0000e+00\n",
      "Epoch 62/100\n",
      "\u001b[1m342/342\u001b[0m \u001b[32m━━━━━━━━━━━━━━━━━━━━\u001b[0m\u001b[37m\u001b[0m \u001b[1m19s\u001b[0m 56ms/step - accuracy: 1.0000 - loss: 3.9634e-09 - val_accuracy: 1.0000 - val_loss: 0.0000e+00\n",
      "Epoch 63/100\n",
      "\u001b[1m342/342\u001b[0m \u001b[32m━━━━━━━━━━━━━━━━━━━━\u001b[0m\u001b[37m\u001b[0m \u001b[1m19s\u001b[0m 56ms/step - accuracy: 1.0000 - loss: 4.9920e-09 - val_accuracy: 1.0000 - val_loss: 0.0000e+00\n",
      "Epoch 64/100\n",
      "\u001b[1m342/342\u001b[0m \u001b[32m━━━━━━━━━━━━━━━━━━━━\u001b[0m\u001b[37m\u001b[0m \u001b[1m20s\u001b[0m 58ms/step - accuracy: 1.0000 - loss: 4.2598e-09 - val_accuracy: 1.0000 - val_loss: 0.0000e+00\n",
      "Epoch 65/100\n",
      "\u001b[1m342/342\u001b[0m \u001b[32m━━━━━━━━━━━━━━━━━━━━\u001b[0m\u001b[37m\u001b[0m \u001b[1m19s\u001b[0m 56ms/step - accuracy: 1.0000 - loss: 2.6863e-09 - val_accuracy: 1.0000 - val_loss: 0.0000e+00\n",
      "Epoch 66/100\n",
      "\u001b[1m342/342\u001b[0m \u001b[32m━━━━━━━━━━━━━━━━━━━━\u001b[0m\u001b[37m\u001b[0m \u001b[1m20s\u001b[0m 59ms/step - accuracy: 1.0000 - loss: 2.0356e-09 - val_accuracy: 1.0000 - val_loss: 0.0000e+00\n",
      "Epoch 67/100\n",
      "\u001b[1m342/342\u001b[0m \u001b[32m━━━━━━━━━━━━━━━━━━━━\u001b[0m\u001b[37m\u001b[0m \u001b[1m19s\u001b[0m 57ms/step - accuracy: 1.0000 - loss: 1.6002e-09 - val_accuracy: 1.0000 - val_loss: 0.0000e+00\n",
      "Epoch 68/100\n",
      "\u001b[1m342/342\u001b[0m \u001b[32m━━━━━━━━━━━━━━━━━━━━\u001b[0m\u001b[37m\u001b[0m \u001b[1m21s\u001b[0m 60ms/step - accuracy: 1.0000 - loss: 1.5915e-09 - val_accuracy: 1.0000 - val_loss: 0.0000e+00\n",
      "Epoch 69/100\n",
      "\u001b[1m342/342\u001b[0m \u001b[32m━━━━━━━━━━━━━━━━━━━━\u001b[0m\u001b[37m\u001b[0m \u001b[1m19s\u001b[0m 57ms/step - accuracy: 1.0000 - loss: 1.7348e-09 - val_accuracy: 1.0000 - val_loss: 0.0000e+00\n",
      "Epoch 70/100\n",
      "\u001b[1m342/342\u001b[0m \u001b[32m━━━━━━━━━━━━━━━━━━━━\u001b[0m\u001b[37m\u001b[0m \u001b[1m19s\u001b[0m 54ms/step - accuracy: 1.0000 - loss: 9.3044e-10 - val_accuracy: 1.0000 - val_loss: 0.0000e+00\n",
      "Epoch 71/100\n",
      "\u001b[1m342/342\u001b[0m \u001b[32m━━━━━━━━━━━━━━━━━━━━\u001b[0m\u001b[37m\u001b[0m \u001b[1m19s\u001b[0m 56ms/step - accuracy: 1.0000 - loss: 8.4587e-10 - val_accuracy: 1.0000 - val_loss: 0.0000e+00\n",
      "Epoch 72/100\n",
      "\u001b[1m342/342\u001b[0m \u001b[32m━━━━━━━━━━━━━━━━━━━━\u001b[0m\u001b[37m\u001b[0m \u001b[1m19s\u001b[0m 55ms/step - accuracy: 1.0000 - loss: 1.1198e-09 - val_accuracy: 1.0000 - val_loss: 0.0000e+00\n",
      "Epoch 73/100\n",
      "\u001b[1m342/342\u001b[0m \u001b[32m━━━━━━━━━━━━━━━━━━━━\u001b[0m\u001b[37m\u001b[0m \u001b[1m20s\u001b[0m 59ms/step - accuracy: 1.0000 - loss: 1.0062e-09 - val_accuracy: 1.0000 - val_loss: 0.0000e+00\n",
      "Epoch 74/100\n",
      "\u001b[1m342/342\u001b[0m \u001b[32m━━━━━━━━━━━━━━━━━━━━\u001b[0m\u001b[37m\u001b[0m \u001b[1m20s\u001b[0m 59ms/step - accuracy: 1.0000 - loss: 6.3605e-10 - val_accuracy: 1.0000 - val_loss: 0.0000e+00\n",
      "Epoch 75/100\n",
      "\u001b[1m342/342\u001b[0m \u001b[32m━━━━━━━━━━━━━━━━━━━━\u001b[0m\u001b[37m\u001b[0m \u001b[1m20s\u001b[0m 58ms/step - accuracy: 1.0000 - loss: 5.7910e-10 - val_accuracy: 1.0000 - val_loss: 0.0000e+00\n",
      "Epoch 76/100\n",
      "\u001b[1m342/342\u001b[0m \u001b[32m━━━━━━━━━━━━━━━━━━━━\u001b[0m\u001b[37m\u001b[0m \u001b[1m20s\u001b[0m 57ms/step - accuracy: 1.0000 - loss: 3.8212e-10 - val_accuracy: 1.0000 - val_loss: 0.0000e+00\n",
      "Epoch 77/100\n",
      "\u001b[1m342/342\u001b[0m \u001b[32m━━━━━━━━━━━━━━━━━━━━\u001b[0m\u001b[37m\u001b[0m \u001b[1m20s\u001b[0m 58ms/step - accuracy: 1.0000 - loss: 4.1780e-10 - val_accuracy: 1.0000 - val_loss: 0.0000e+00\n",
      "Epoch 78/100\n",
      "\u001b[1m342/342\u001b[0m \u001b[32m━━━━━━━━━━━━━━━━━━━━\u001b[0m\u001b[37m\u001b[0m \u001b[1m20s\u001b[0m 58ms/step - accuracy: 1.0000 - loss: 3.9086e-10 - val_accuracy: 1.0000 - val_loss: 0.0000e+00\n",
      "Epoch 79/100\n",
      "\u001b[1m342/342\u001b[0m \u001b[32m━━━━━━━━━━━━━━━━━━━━\u001b[0m\u001b[37m\u001b[0m \u001b[1m19s\u001b[0m 56ms/step - accuracy: 1.0000 - loss: 1.6847e-10 - val_accuracy: 1.0000 - val_loss: 0.0000e+00\n",
      "Epoch 80/100\n",
      "\u001b[1m342/342\u001b[0m \u001b[32m━━━━━━━━━━━━━━━━━━━━\u001b[0m\u001b[37m\u001b[0m \u001b[1m19s\u001b[0m 56ms/step - accuracy: 1.0000 - loss: 1.7726e-10 - val_accuracy: 1.0000 - val_loss: 0.0000e+00\n",
      "Epoch 81/100\n",
      "\u001b[1m342/342\u001b[0m \u001b[32m━━━━━━━━━━━━━━━━━━━━\u001b[0m\u001b[37m\u001b[0m \u001b[1m19s\u001b[0m 56ms/step - accuracy: 1.0000 - loss: 1.3890e-10 - val_accuracy: 1.0000 - val_loss: 0.0000e+00\n",
      "Epoch 82/100\n",
      "\u001b[1m342/342\u001b[0m \u001b[32m━━━━━━━━━━━━━━━━━━━━\u001b[0m\u001b[37m\u001b[0m \u001b[1m19s\u001b[0m 56ms/step - accuracy: 1.0000 - loss: 1.4656e-10 - val_accuracy: 1.0000 - val_loss: 0.0000e+00\n",
      "Epoch 83/100\n",
      "\u001b[1m342/342\u001b[0m \u001b[32m━━━━━━━━━━━━━━━━━━━━\u001b[0m\u001b[37m\u001b[0m \u001b[1m19s\u001b[0m 55ms/step - accuracy: 1.0000 - loss: 1.3585e-10 - val_accuracy: 1.0000 - val_loss: 0.0000e+00\n",
      "Epoch 84/100\n",
      "\u001b[1m342/342\u001b[0m \u001b[32m━━━━━━━━━━━━━━━━━━━━\u001b[0m\u001b[37m\u001b[0m \u001b[1m20s\u001b[0m 57ms/step - accuracy: 1.0000 - loss: 4.0338e-10 - val_accuracy: 1.0000 - val_loss: 0.0000e+00\n",
      "Epoch 85/100\n",
      "\u001b[1m342/342\u001b[0m \u001b[32m━━━━━━━━━━━━━━━━━━━━\u001b[0m\u001b[37m\u001b[0m \u001b[1m22s\u001b[0m 65ms/step - accuracy: 1.0000 - loss: 3.4027e-11 - val_accuracy: 1.0000 - val_loss: 0.0000e+00\n",
      "Epoch 86/100\n",
      "\u001b[1m342/342\u001b[0m \u001b[32m━━━━━━━━━━━━━━━━━━━━\u001b[0m\u001b[37m\u001b[0m \u001b[1m22s\u001b[0m 65ms/step - accuracy: 1.0000 - loss: 9.7444e-11 - val_accuracy: 1.0000 - val_loss: 0.0000e+00\n",
      "Epoch 87/100\n",
      "\u001b[1m342/342\u001b[0m \u001b[32m━━━━━━━━━━━━━━━━━━━━\u001b[0m\u001b[37m\u001b[0m \u001b[1m22s\u001b[0m 65ms/step - accuracy: 1.0000 - loss: 2.4729e-11 - val_accuracy: 1.0000 - val_loss: 0.0000e+00\n",
      "Epoch 88/100\n",
      "\u001b[1m342/342\u001b[0m \u001b[32m━━━━━━━━━━━━━━━━━━━━\u001b[0m\u001b[37m\u001b[0m \u001b[1m22s\u001b[0m 65ms/step - accuracy: 1.0000 - loss: 8.2704e-11 - val_accuracy: 1.0000 - val_loss: 0.0000e+00\n",
      "Epoch 89/100\n",
      "\u001b[1m342/342\u001b[0m \u001b[32m━━━━━━━━━━━━━━━━━━━━\u001b[0m\u001b[37m\u001b[0m \u001b[1m22s\u001b[0m 65ms/step - accuracy: 1.0000 - loss: 1.0803e-10 - val_accuracy: 1.0000 - val_loss: 0.0000e+00\n",
      "Epoch 90/100\n",
      "\u001b[1m342/342\u001b[0m \u001b[32m━━━━━━━━━━━━━━━━━━━━\u001b[0m\u001b[37m\u001b[0m \u001b[1m22s\u001b[0m 65ms/step - accuracy: 1.0000 - loss: 7.7328e-11 - val_accuracy: 1.0000 - val_loss: 0.0000e+00\n",
      "Epoch 91/100\n",
      "\u001b[1m342/342\u001b[0m \u001b[32m━━━━━━━━━━━━━━━━━━━━\u001b[0m\u001b[37m\u001b[0m \u001b[1m23s\u001b[0m 67ms/step - accuracy: 1.0000 - loss: 1.1292e-10 - val_accuracy: 1.0000 - val_loss: 0.0000e+00\n",
      "Epoch 92/100\n",
      "\u001b[1m342/342\u001b[0m \u001b[32m━━━━━━━━━━━━━━━━━━━━\u001b[0m\u001b[37m\u001b[0m \u001b[1m23s\u001b[0m 68ms/step - accuracy: 0.9933 - loss: 0.0630 - val_accuracy: 1.0000 - val_loss: 0.0000e+00\n",
      "Epoch 93/100\n",
      "\u001b[1m342/342\u001b[0m \u001b[32m━━━━━━━━━━━━━━━━━━━━\u001b[0m\u001b[37m\u001b[0m \u001b[1m22s\u001b[0m 64ms/step - accuracy: 1.0000 - loss: 1.6432e-05 - val_accuracy: 1.0000 - val_loss: 0.0000e+00\n",
      "Epoch 94/100\n",
      "\u001b[1m342/342\u001b[0m \u001b[32m━━━━━━━━━━━━━━━━━━━━\u001b[0m\u001b[37m\u001b[0m \u001b[1m22s\u001b[0m 64ms/step - accuracy: 1.0000 - loss: 9.5490e-07 - val_accuracy: 1.0000 - val_loss: 0.0000e+00\n",
      "Epoch 95/100\n",
      "\u001b[1m342/342\u001b[0m \u001b[32m━━━━━━━━━━━━━━━━━━━━\u001b[0m\u001b[37m\u001b[0m \u001b[1m21s\u001b[0m 61ms/step - accuracy: 1.0000 - loss: 7.7997e-07 - val_accuracy: 1.0000 - val_loss: 0.0000e+00\n",
      "Epoch 96/100\n",
      "\u001b[1m342/342\u001b[0m \u001b[32m━━━━━━━━━━━━━━━━━━━━\u001b[0m\u001b[37m\u001b[0m \u001b[1m21s\u001b[0m 61ms/step - accuracy: 1.0000 - loss: 1.1709e-06 - val_accuracy: 1.0000 - val_loss: 0.0000e+00\n",
      "Epoch 97/100\n",
      "\u001b[1m342/342\u001b[0m \u001b[32m━━━━━━━━━━━━━━━━━━━━\u001b[0m\u001b[37m\u001b[0m \u001b[1m21s\u001b[0m 62ms/step - accuracy: 1.0000 - loss: 3.4804e-07 - val_accuracy: 1.0000 - val_loss: 0.0000e+00\n",
      "Epoch 98/100\n",
      "\u001b[1m342/342\u001b[0m \u001b[32m━━━━━━━━━━━━━━━━━━━━\u001b[0m\u001b[37m\u001b[0m \u001b[1m22s\u001b[0m 64ms/step - accuracy: 1.0000 - loss: 5.5695e-07 - val_accuracy: 1.0000 - val_loss: 0.0000e+00\n",
      "Epoch 99/100\n",
      "\u001b[1m342/342\u001b[0m \u001b[32m━━━━━━━━━━━━━━━━━━━━\u001b[0m\u001b[37m\u001b[0m \u001b[1m22s\u001b[0m 65ms/step - accuracy: 1.0000 - loss: 1.1914e-07 - val_accuracy: 1.0000 - val_loss: 0.0000e+00\n",
      "Epoch 100/100\n",
      "\u001b[1m342/342\u001b[0m \u001b[32m━━━━━━━━━━━━━━━━━━━━\u001b[0m\u001b[37m\u001b[0m \u001b[1m22s\u001b[0m 65ms/step - accuracy: 1.0000 - loss: 3.6610e-07 - val_accuracy: 1.0000 - val_loss: 0.0000e+00\n"
     ]
    },
    {
     "data": {
      "text/plain": [
       "<keras.src.callbacks.history.History at 0x74d9bfc4bfb0>"
      ]
     },
     "execution_count": 18,
     "metadata": {},
     "output_type": "execute_result"
    }
   ],
   "source": [
    "model.fit(\n",
    "    x_train,\n",
    "    steps_per_epoch=342,\n",
    "    epochs=100,\n",
    "    validation_data=x_test,\n",
    "    validation_steps=10\n",
    ")"
   ]
  },
  {
   "cell_type": "code",
   "execution_count": 19,
   "id": "b50b39f8-2c15-4c26-94d9-2b3166fe872c",
   "metadata": {},
   "outputs": [
    {
     "data": {
      "text/html": [
       "<pre style=\"white-space:pre;overflow-x:auto;line-height:normal;font-family:Menlo,'DejaVu Sans Mono',consolas,'Courier New',monospace\"><span style=\"font-weight: bold\">Model: \"sequential_1\"</span>\n",
       "</pre>\n"
      ],
      "text/plain": [
       "\u001b[1mModel: \"sequential_1\"\u001b[0m\n"
      ]
     },
     "metadata": {},
     "output_type": "display_data"
    },
    {
     "data": {
      "text/html": [
       "<pre style=\"white-space:pre;overflow-x:auto;line-height:normal;font-family:Menlo,'DejaVu Sans Mono',consolas,'Courier New',monospace\">┏━━━━━━━━━━━━━━━━━━━━━━━━━━━━━━━━━┳━━━━━━━━━━━━━━━━━━━━━━━━┳━━━━━━━━━━━━━━━┓\n",
       "┃<span style=\"font-weight: bold\"> Layer (type)                    </span>┃<span style=\"font-weight: bold\"> Output Shape           </span>┃<span style=\"font-weight: bold\">       Param # </span>┃\n",
       "┡━━━━━━━━━━━━━━━━━━━━━━━━━━━━━━━━━╇━━━━━━━━━━━━━━━━━━━━━━━━╇━━━━━━━━━━━━━━━┩\n",
       "│ conv2d_1 (<span style=\"color: #0087ff; text-decoration-color: #0087ff\">Conv2D</span>)               │ (<span style=\"color: #00d7ff; text-decoration-color: #00d7ff\">None</span>, <span style=\"color: #00af00; text-decoration-color: #00af00\">62</span>, <span style=\"color: #00af00; text-decoration-color: #00af00\">62</span>, <span style=\"color: #00af00; text-decoration-color: #00af00\">32</span>)     │           <span style=\"color: #00af00; text-decoration-color: #00af00\">896</span> │\n",
       "├─────────────────────────────────┼────────────────────────┼───────────────┤\n",
       "│ max_pooling2d_1 (<span style=\"color: #0087ff; text-decoration-color: #0087ff\">MaxPooling2D</span>)  │ (<span style=\"color: #00d7ff; text-decoration-color: #00d7ff\">None</span>, <span style=\"color: #00af00; text-decoration-color: #00af00\">31</span>, <span style=\"color: #00af00; text-decoration-color: #00af00\">31</span>, <span style=\"color: #00af00; text-decoration-color: #00af00\">32</span>)     │             <span style=\"color: #00af00; text-decoration-color: #00af00\">0</span> │\n",
       "├─────────────────────────────────┼────────────────────────┼───────────────┤\n",
       "│ flatten (<span style=\"color: #0087ff; text-decoration-color: #0087ff\">Flatten</span>)               │ (<span style=\"color: #00d7ff; text-decoration-color: #00d7ff\">None</span>, <span style=\"color: #00af00; text-decoration-color: #00af00\">30752</span>)          │             <span style=\"color: #00af00; text-decoration-color: #00af00\">0</span> │\n",
       "├─────────────────────────────────┼────────────────────────┼───────────────┤\n",
       "│ dense (<span style=\"color: #0087ff; text-decoration-color: #0087ff\">Dense</span>)                   │ (<span style=\"color: #00d7ff; text-decoration-color: #00d7ff\">None</span>, <span style=\"color: #00af00; text-decoration-color: #00af00\">128</span>)            │     <span style=\"color: #00af00; text-decoration-color: #00af00\">3,936,384</span> │\n",
       "├─────────────────────────────────┼────────────────────────┼───────────────┤\n",
       "│ dense_1 (<span style=\"color: #0087ff; text-decoration-color: #0087ff\">Dense</span>)                 │ (<span style=\"color: #00d7ff; text-decoration-color: #00d7ff\">None</span>, <span style=\"color: #00af00; text-decoration-color: #00af00\">3</span>)              │           <span style=\"color: #00af00; text-decoration-color: #00af00\">387</span> │\n",
       "└─────────────────────────────────┴────────────────────────┴───────────────┘\n",
       "</pre>\n"
      ],
      "text/plain": [
       "┏━━━━━━━━━━━━━━━━━━━━━━━━━━━━━━━━━┳━━━━━━━━━━━━━━━━━━━━━━━━┳━━━━━━━━━━━━━━━┓\n",
       "┃\u001b[1m \u001b[0m\u001b[1mLayer (type)                   \u001b[0m\u001b[1m \u001b[0m┃\u001b[1m \u001b[0m\u001b[1mOutput Shape          \u001b[0m\u001b[1m \u001b[0m┃\u001b[1m \u001b[0m\u001b[1m      Param #\u001b[0m\u001b[1m \u001b[0m┃\n",
       "┡━━━━━━━━━━━━━━━━━━━━━━━━━━━━━━━━━╇━━━━━━━━━━━━━━━━━━━━━━━━╇━━━━━━━━━━━━━━━┩\n",
       "│ conv2d_1 (\u001b[38;5;33mConv2D\u001b[0m)               │ (\u001b[38;5;45mNone\u001b[0m, \u001b[38;5;34m62\u001b[0m, \u001b[38;5;34m62\u001b[0m, \u001b[38;5;34m32\u001b[0m)     │           \u001b[38;5;34m896\u001b[0m │\n",
       "├─────────────────────────────────┼────────────────────────┼───────────────┤\n",
       "│ max_pooling2d_1 (\u001b[38;5;33mMaxPooling2D\u001b[0m)  │ (\u001b[38;5;45mNone\u001b[0m, \u001b[38;5;34m31\u001b[0m, \u001b[38;5;34m31\u001b[0m, \u001b[38;5;34m32\u001b[0m)     │             \u001b[38;5;34m0\u001b[0m │\n",
       "├─────────────────────────────────┼────────────────────────┼───────────────┤\n",
       "│ flatten (\u001b[38;5;33mFlatten\u001b[0m)               │ (\u001b[38;5;45mNone\u001b[0m, \u001b[38;5;34m30752\u001b[0m)          │             \u001b[38;5;34m0\u001b[0m │\n",
       "├─────────────────────────────────┼────────────────────────┼───────────────┤\n",
       "│ dense (\u001b[38;5;33mDense\u001b[0m)                   │ (\u001b[38;5;45mNone\u001b[0m, \u001b[38;5;34m128\u001b[0m)            │     \u001b[38;5;34m3,936,384\u001b[0m │\n",
       "├─────────────────────────────────┼────────────────────────┼───────────────┤\n",
       "│ dense_1 (\u001b[38;5;33mDense\u001b[0m)                 │ (\u001b[38;5;45mNone\u001b[0m, \u001b[38;5;34m3\u001b[0m)              │           \u001b[38;5;34m387\u001b[0m │\n",
       "└─────────────────────────────────┴────────────────────────┴───────────────┘\n"
      ]
     },
     "metadata": {},
     "output_type": "display_data"
    },
    {
     "data": {
      "text/html": [
       "<pre style=\"white-space:pre;overflow-x:auto;line-height:normal;font-family:Menlo,'DejaVu Sans Mono',consolas,'Courier New',monospace\"><span style=\"font-weight: bold\"> Total params: </span><span style=\"color: #00af00; text-decoration-color: #00af00\">11,813,003</span> (45.06 MB)\n",
       "</pre>\n"
      ],
      "text/plain": [
       "\u001b[1m Total params: \u001b[0m\u001b[38;5;34m11,813,003\u001b[0m (45.06 MB)\n"
      ]
     },
     "metadata": {},
     "output_type": "display_data"
    },
    {
     "data": {
      "text/html": [
       "<pre style=\"white-space:pre;overflow-x:auto;line-height:normal;font-family:Menlo,'DejaVu Sans Mono',consolas,'Courier New',monospace\"><span style=\"font-weight: bold\"> Trainable params: </span><span style=\"color: #00af00; text-decoration-color: #00af00\">3,937,667</span> (15.02 MB)\n",
       "</pre>\n"
      ],
      "text/plain": [
       "\u001b[1m Trainable params: \u001b[0m\u001b[38;5;34m3,937,667\u001b[0m (15.02 MB)\n"
      ]
     },
     "metadata": {},
     "output_type": "display_data"
    },
    {
     "data": {
      "text/html": [
       "<pre style=\"white-space:pre;overflow-x:auto;line-height:normal;font-family:Menlo,'DejaVu Sans Mono',consolas,'Courier New',monospace\"><span style=\"font-weight: bold\"> Non-trainable params: </span><span style=\"color: #00af00; text-decoration-color: #00af00\">0</span> (0.00 B)\n",
       "</pre>\n"
      ],
      "text/plain": [
       "\u001b[1m Non-trainable params: \u001b[0m\u001b[38;5;34m0\u001b[0m (0.00 B)\n"
      ]
     },
     "metadata": {},
     "output_type": "display_data"
    },
    {
     "data": {
      "text/html": [
       "<pre style=\"white-space:pre;overflow-x:auto;line-height:normal;font-family:Menlo,'DejaVu Sans Mono',consolas,'Courier New',monospace\"><span style=\"font-weight: bold\"> Optimizer params: </span><span style=\"color: #00af00; text-decoration-color: #00af00\">7,875,336</span> (30.04 MB)\n",
       "</pre>\n"
      ],
      "text/plain": [
       "\u001b[1m Optimizer params: \u001b[0m\u001b[38;5;34m7,875,336\u001b[0m (30.04 MB)\n"
      ]
     },
     "metadata": {},
     "output_type": "display_data"
    }
   ],
   "source": [
    "model.summary()"
   ]
  },
  {
   "cell_type": "markdown",
   "id": "981b8dfc-9fac-48f7-a413-a5521fcaa429",
   "metadata": {},
   "source": [
    "# Saving the model"
   ]
  },
  {
   "cell_type": "code",
   "execution_count": 20,
   "id": "3d714844-2308-4c44-a6f4-60c91edfe898",
   "metadata": {},
   "outputs": [],
   "source": [
    "from tensorflow.keras.models import load_model\n",
    "from tensorflow.keras.preprocessing import image"
   ]
  },
  {
   "cell_type": "code",
   "execution_count": 22,
   "id": "d2380526-8077-4e62-b867-1f3b8ddb3077",
   "metadata": {},
   "outputs": [
    {
     "name": "stderr",
     "output_type": "stream",
     "text": [
      "WARNING:absl:You are saving your model as an HDF5 file via `model.save()` or `keras.saving.save_model(model)`. This file format is considered legacy. We recommend using instead the native Keras format, e.g. `model.save('my_model.keras')` or `keras.saving.save_model(model, 'my_model.keras')`. \n"
     ]
    }
   ],
   "source": [
    "model.save(\"shapes.h5\")"
   ]
  },
  {
   "cell_type": "code",
   "execution_count": 23,
   "id": "2254963a-12a5-45a2-8500-2a5df9a82ba2",
   "metadata": {},
   "outputs": [
    {
     "name": "stderr",
     "output_type": "stream",
     "text": [
      "WARNING:absl:Compiled the loaded model, but the compiled metrics have yet to be built. `model.compile_metrics` will be empty until you train or evaluate the model.\n"
     ]
    }
   ],
   "source": [
    "model = load_model(\"shapes.h5\")"
   ]
  },
  {
   "cell_type": "code",
   "execution_count": 24,
   "id": "05b3f467-5e91-4c4a-aa71-0772e6331f01",
   "metadata": {},
   "outputs": [],
   "source": [
    "img1 = image.load_img(\"/home/manishji/Downloads/100.png\", target_size = (64,64))"
   ]
  },
  {
   "cell_type": "code",
   "execution_count": 25,
   "id": "d1fcfc5c-58d5-47ec-a963-b38ec8974d86",
   "metadata": {},
   "outputs": [
    {
     "data": {
      "text/plain": [
       "PIL.Image.Image"
      ]
     },
     "execution_count": 25,
     "metadata": {},
     "output_type": "execute_result"
    }
   ],
   "source": [
    "type(img1)"
   ]
  },
  {
   "cell_type": "code",
   "execution_count": 26,
   "id": "eebdc266-5984-4ac0-b291-a0c969bbefe8",
   "metadata": {},
   "outputs": [],
   "source": [
    "x = image.img_to_array(img1)"
   ]
  },
  {
   "cell_type": "code",
   "execution_count": 27,
   "id": "965b9ada-e270-4811-811a-48d0b7e9f28e",
   "metadata": {},
   "outputs": [
    {
     "data": {
      "text/plain": [
       "(64, 64, 3)"
      ]
     },
     "execution_count": 27,
     "metadata": {},
     "output_type": "execute_result"
    }
   ],
   "source": [
    "x.shape"
   ]
  },
  {
   "cell_type": "code",
   "execution_count": 32,
   "id": "139f4d47-f422-457c-b8c8-209817837f24",
   "metadata": {},
   "outputs": [],
   "source": [
    "x = np.expand_dims(x, axis = 0)"
   ]
  },
  {
   "cell_type": "code",
   "execution_count": 33,
   "id": "449606b8-f18a-4bcd-8692-33a3703f2049",
   "metadata": {},
   "outputs": [
    {
     "data": {
      "text/plain": [
       "(1, 64, 64, 3)"
      ]
     },
     "execution_count": 33,
     "metadata": {},
     "output_type": "execute_result"
    }
   ],
   "source": [
    "x.shape"
   ]
  },
  {
   "cell_type": "code",
   "execution_count": 34,
   "id": "ee93ced9-1883-46fe-b0b6-37088077bb20",
   "metadata": {},
   "outputs": [
    {
     "name": "stdout",
     "output_type": "stream",
     "text": [
      "\u001b[1m1/1\u001b[0m \u001b[32m━━━━━━━━━━━━━━━━━━━━\u001b[0m\u001b[37m\u001b[0m \u001b[1m0s\u001b[0m 143ms/step\n"
     ]
    }
   ],
   "source": [
    "xpred = np.argmax(model.predict(x))"
   ]
  },
  {
   "cell_type": "code",
   "execution_count": 35,
   "id": "56eee5a5-9a59-48f0-bd7b-09bcc212f4e8",
   "metadata": {},
   "outputs": [
    {
     "data": {
      "text/plain": [
       "np.int64(0)"
      ]
     },
     "execution_count": 35,
     "metadata": {},
     "output_type": "execute_result"
    }
   ],
   "source": [
    "xpred"
   ]
  },
  {
   "cell_type": "code",
   "execution_count": 47,
   "id": "98635596-d254-47fe-9c68-2e093e8abe3e",
   "metadata": {},
   "outputs": [],
   "source": [
    "img2 = image.load_img(\"/home/manishji/Downloads/131.png\", target_size = (64,64))"
   ]
  },
  {
   "cell_type": "code",
   "execution_count": 48,
   "id": "8b14f27b-e567-4aed-bf19-71210f96dfc4",
   "metadata": {},
   "outputs": [
    {
     "data": {
      "text/plain": [
       "PIL.Image.Image"
      ]
     },
     "execution_count": 48,
     "metadata": {},
     "output_type": "execute_result"
    }
   ],
   "source": [
    "type(img2)"
   ]
  },
  {
   "cell_type": "code",
   "execution_count": 49,
   "id": "702670c6-e854-4217-8198-418d8eaa3c0c",
   "metadata": {},
   "outputs": [],
   "source": [
    "y = image.img_to_array(img2)"
   ]
  },
  {
   "cell_type": "code",
   "execution_count": 50,
   "id": "e06b8845-e9ee-45ee-ba49-f48ea211b2a3",
   "metadata": {},
   "outputs": [
    {
     "data": {
      "text/plain": [
       "(64, 64, 3)"
      ]
     },
     "execution_count": 50,
     "metadata": {},
     "output_type": "execute_result"
    }
   ],
   "source": [
    "y.shape"
   ]
  },
  {
   "cell_type": "code",
   "execution_count": 51,
   "id": "0d879a2f-17fe-403e-bbbe-e12b47bc24d8",
   "metadata": {},
   "outputs": [],
   "source": [
    "y = np.expand_dims(y, axis = 0)"
   ]
  },
  {
   "cell_type": "code",
   "execution_count": 52,
   "id": "9e9b6164-d931-401b-9934-6bf3201dd790",
   "metadata": {},
   "outputs": [
    {
     "name": "stdout",
     "output_type": "stream",
     "text": [
      "\u001b[1m1/1\u001b[0m \u001b[32m━━━━━━━━━━━━━━━━━━━━\u001b[0m\u001b[37m\u001b[0m \u001b[1m0s\u001b[0m 89ms/step\n"
     ]
    }
   ],
   "source": [
    "ypred = np.argmax(model.predict(y))"
   ]
  },
  {
   "cell_type": "code",
   "execution_count": 53,
   "id": "12701279-f3a9-4e5b-92dd-a9487249e011",
   "metadata": {},
   "outputs": [
    {
     "data": {
      "text/plain": [
       "np.int64(1)"
      ]
     },
     "execution_count": 53,
     "metadata": {},
     "output_type": "execute_result"
    }
   ],
   "source": [
    "ypred"
   ]
  },
  {
   "cell_type": "code",
   "execution_count": 54,
   "id": "a6358c0c-0c94-4ca5-bdee-25647eeef7d1",
   "metadata": {},
   "outputs": [],
   "source": [
    "index = ['circle', 'square', 'triangle']"
   ]
  },
  {
   "cell_type": "code",
   "execution_count": 55,
   "id": "d682d0e2-09e1-4ee9-af6f-4ec1fc51f45b",
   "metadata": {},
   "outputs": [],
   "source": [
    "prediction = index[xpred]"
   ]
  },
  {
   "cell_type": "code",
   "execution_count": 56,
   "id": "f8daac21-1567-4814-8be9-3c80fba80231",
   "metadata": {},
   "outputs": [
    {
     "data": {
      "text/plain": [
       "'circle'"
      ]
     },
     "execution_count": 56,
     "metadata": {},
     "output_type": "execute_result"
    }
   ],
   "source": [
    "prediction"
   ]
  },
  {
   "cell_type": "code",
   "execution_count": 59,
   "id": "4b711a13-4064-4b03-a1f5-e512d3a89732",
   "metadata": {},
   "outputs": [],
   "source": [
    "prediction = index[ypred]"
   ]
  },
  {
   "cell_type": "code",
   "execution_count": 60,
   "id": "c389ee7a-2868-4272-b539-1564a1184fc7",
   "metadata": {},
   "outputs": [
    {
     "data": {
      "text/plain": [
       "'square'"
      ]
     },
     "execution_count": 60,
     "metadata": {},
     "output_type": "execute_result"
    }
   ],
   "source": [
    "prediction"
   ]
  },
  {
   "cell_type": "code",
   "execution_count": null,
   "id": "6c5b7a06-5b89-4c57-be52-0964795aa5f5",
   "metadata": {},
   "outputs": [],
   "source": []
  }
 ],
 "metadata": {
  "kernelspec": {
   "display_name": "Python 3 (ipykernel)",
   "language": "python",
   "name": "python3"
  },
  "language_info": {
   "codemirror_mode": {
    "name": "ipython",
    "version": 3
   },
   "file_extension": ".py",
   "mimetype": "text/x-python",
   "name": "python",
   "nbconvert_exporter": "python",
   "pygments_lexer": "ipython3",
   "version": "3.12.3"
  }
 },
 "nbformat": 4,
 "nbformat_minor": 5
}

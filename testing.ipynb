{
 "cells": [
  {
   "cell_type": "code",
   "execution_count": 1,
   "id": "24c25232-ca2c-4aec-9db3-d2b47049e2bb",
   "metadata": {},
   "outputs": [
    {
     "name": "stderr",
     "output_type": "stream",
     "text": [
      "2024-12-19 10:51:39.786252: I external/local_xla/xla/tsl/cuda/cudart_stub.cc:32] Could not find cuda drivers on your machine, GPU will not be used.\n",
      "2024-12-19 10:51:39.921067: I external/local_xla/xla/tsl/cuda/cudart_stub.cc:32] Could not find cuda drivers on your machine, GPU will not be used.\n",
      "2024-12-19 10:51:40.058049: E external/local_xla/xla/stream_executor/cuda/cuda_fft.cc:477] Unable to register cuFFT factory: Attempting to register factory for plugin cuFFT when one has already been registered\n",
      "WARNING: All log messages before absl::InitializeLog() is called are written to STDERR\n",
      "E0000 00:00:1734585700.181617    8613 cuda_dnn.cc:8310] Unable to register cuDNN factory: Attempting to register factory for plugin cuDNN when one has already been registered\n",
      "E0000 00:00:1734585700.215090    8613 cuda_blas.cc:1418] Unable to register cuBLAS factory: Attempting to register factory for plugin cuBLAS when one has already been registered\n",
      "2024-12-19 10:51:40.476452: I tensorflow/core/platform/cpu_feature_guard.cc:210] This TensorFlow binary is optimized to use available CPU instructions in performance-critical operations.\n",
      "To enable the following instructions: AVX2 FMA, in other operations, rebuild TensorFlow with the appropriate compiler flags.\n",
      "2024-12-19 10:51:44.695647: E external/local_xla/xla/stream_executor/cuda/cuda_driver.cc:152] failed call to cuInit: INTERNAL: CUDA error: Failed call to cuInit: UNKNOWN ERROR (303)\n",
      "WARNING:absl:Compiled the loaded model, but the compiled metrics have yet to be built. `model.compile_metrics` will be empty until you train or evaluate the model.\n"
     ]
    },
    {
     "name": "stdout",
     "output_type": "stream",
     "text": [
      "\u001b[1m1/1\u001b[0m \u001b[32m━━━━━━━━━━━━━━━━━━━━\u001b[0m\u001b[37m\u001b[0m \u001b[1m0s\u001b[0m 133ms/step\n",
      "Image: s.png, Predicted Shape: Circle\n"
     ]
    }
   ],
   "source": [
    "import tensorflow as tf\n",
    "import numpy as np\n",
    "from PIL import Image\n",
    "import os\n",
    "\n",
    "# Load the trained model\n",
    "model_path = \"trained_model.h5\"  # Path to your trained model\n",
    "model = tf.keras.models.load_model(model_path)\n",
    "\n",
    "# Define the shape classes your model predicts\n",
    "shape_classes = ['Circle', 'Square', 'Triangle']  # Adjust this to match your model's output classes\n",
    "\n",
    "def preprocess_image(image_path):\n",
    "    \"\"\"\n",
    "    Preprocess the image to match the model's input format.\n",
    "    \"\"\"\n",
    "    img = Image.open(image_path)\n",
    "    img = img.convert('RGB')  # Ensure RGB format\n",
    "    img = img.resize((150, 150))  # Resize to the input size expected by your model\n",
    "    img_array = np.array(img) / 255.0  # Normalize pixel values to [0, 1]\n",
    "    img_array = np.expand_dims(img_array, axis=0)  # Add batch dimension\n",
    "    return img_array\n",
    "\n",
    "def predict_shape(image_path):\n",
    "    \"\"\"\n",
    "    Predict the shape in the given image.\n",
    "    \"\"\"\n",
    "    img_array = preprocess_image(image_path)\n",
    "    prediction = model.predict(img_array)\n",
    "    predicted_class = np.argmax(prediction, axis=1)\n",
    "    return shape_classes[predicted_class[0]]\n",
    "\n",
    "# Directory containing test images\n",
    "test_images_dir = \"/home/manishji/Smart_Mathematics_Tutor/Dataset/Dataset/test\"  # Path to a folder with test images\n",
    "\n",
    "# Test the model on sample images\n",
    "if os.path.exists(test_images_dir):\n",
    "    for img_file in os.listdir(test_images_dir):\n",
    "        image_path = os.path.join(test_images_dir, img_file)\n",
    "        if os.path.isfile(image_path):\n",
    "            try:\n",
    "                predicted_shape = predict_shape(image_path)\n",
    "                print(f\"Image: {img_file}, Predicted Shape: {predicted_shape}\")\n",
    "            except Exception as e:\n",
    "                print(f\"Error processing {img_file}: {e}\")\n",
    "else:\n",
    "    print(f\"Test images directory '{test_images_dir}' not found!\")\n"
   ]
  },
  {
   "cell_type": "code",
   "execution_count": null,
   "id": "4e775841-d98a-4e1a-9736-60ceea21bc34",
   "metadata": {},
   "outputs": [],
   "source": []
  }
 ],
 "metadata": {
  "kernelspec": {
   "display_name": "Python 3 (ipykernel)",
   "language": "python",
   "name": "python3"
  },
  "language_info": {
   "codemirror_mode": {
    "name": "ipython",
    "version": 3
   },
   "file_extension": ".py",
   "mimetype": "text/x-python",
   "name": "python",
   "nbconvert_exporter": "python",
   "pygments_lexer": "ipython3",
   "version": "3.12.3"
  }
 },
 "nbformat": 4,
 "nbformat_minor": 5
}
